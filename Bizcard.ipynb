{
 "cells": [
  {
   "cell_type": "code",
   "execution_count": 1,
   "metadata": {
    "id": "qAV8GIRgmQJp"
   },
   "outputs": [
    {
     "name": "stderr",
     "output_type": "stream",
     "text": [
      "2024-11-27 12:49:44.407 WARNING streamlit.runtime.scriptrunner_utils.script_run_context: Thread 'MainThread': missing ScriptRunContext! This warning can be ignored when running in bare mode.\n"
     ]
    }
   ],
   "source": [
    "import streamlit as st\n",
    "from streamlit_option_menu import option_menu\n",
    "import easyocr\n",
    "from PIL import Image\n",
    "import pandas as pd\n",
    "from bidi import get_display\n",
    "import numpy as np\n",
    "import re\n",
    "import io\n",
    "import sqlite3"
   ]
  },
  {
   "cell_type": "code",
   "execution_count": 2,
   "metadata": {
    "id": "04JRXsLLpL5D"
   },
   "outputs": [],
   "source": [
    "def image_to_text(path):\n",
    "  #Reading image\n",
    "  input_img = Image.open(path)\n",
    "\n",
    "  #Converting image to array format\n",
    "  image_array = np.array(input_img)\n",
    "\n",
    "  reader = easyocr.Reader(['en'])\n",
    "  text = reader.readtext(image_array, detail=0)\n",
    "\n",
    "  return text, input_img\n"
   ]
  },
  {
   "cell_type": "code",
   "execution_count": 3,
   "metadata": {
    "colab": {
     "base_uri": "https://localhost:8080/"
    },
    "id": "G7jY4_rl6vR1",
    "outputId": "dc78efc2-d5a1-4e0f-e774-1fb9a5fd2a7d"
   },
   "outputs": [
    {
     "name": "stderr",
     "output_type": "stream",
     "text": [
      "Neither CUDA nor MPS are available - defaulting to CPU. Note: This module is much faster with a GPU.\n",
      "Downloading detection model, please wait. This may take several minutes depending upon your network connection.\n"
     ]
    },
    {
     "name": "stdout",
     "output_type": "stream",
     "text": [
      "Progress: |██████████████████████████████████████████████████| 100.0% Complete"
     ]
    },
    {
     "name": "stderr",
     "output_type": "stream",
     "text": [
      "Downloading recognition model, please wait. This may take several minutes depending upon your network connection.\n"
     ]
    },
    {
     "name": "stdout",
     "output_type": "stream",
     "text": [
      "Progress: |██████████████████████████████████████████████████| 100.0% Complete"
     ]
    }
   ],
   "source": [
    "text_img, input_img = image_to_text(\"E:/DATA SCIENCE - COURSE - GUVI/GUVI Project/BizCardX Extracting Business Card Data with OCR/1.png\")"
   ]
  },
  {
   "cell_type": "code",
   "execution_count": 4,
   "metadata": {
    "id": "k2n69Ppc4eSo"
   },
   "outputs": [],
   "source": [
    "def Extracted_text(texts):\n",
    "  ext_dict = {\"NAME\":[], \"DESIGNATION\":[], \"COMPANY_NAME\":[], \"CONTACT\":[], \"EMAIL\":[], \"WEBSITE\":[],\"ADDRESS\":[], \"PINCODE\":[],}\n",
    "\n",
    "  ext_dict[\"NAME\"].append(texts[0])\n",
    "  ext_dict[\"DESIGNATION\"].append(texts[1])\n",
    "\n",
    "  for i in range(2, len(texts)):\n",
    "\n",
    "    if texts[i].startswith(\"+\") or (texts[i].replace(\"-\",\"\").isdigit() and '-' in texts[i]):\n",
    "      ext_dict[\"CONTACT\"].append(texts[i])\n",
    "\n",
    "    elif \"@\" in texts[i] and \".com\" in texts[i]:\n",
    "      ext_dict[\"EMAIL\"].append(texts[i])\n",
    "\n",
    "    elif \"www\" in texts[i] or \"WWW\" in texts[i] or \"Www\" in texts[i] or \"wWw\" in texts[i] or \"wwW\" in texts[i]:\n",
    "      small = texts[i].lower()\n",
    "      ext_dict[\"WEBSITE\"].append(small)\n",
    "\n",
    "    elif \"Tamil Nadu\" in texts[i] or \"TamilNadu\" in texts[i] or texts[i].isdigit():\n",
    "      ext_dict[\"PINCODE\"].append(texts[i])\n",
    "\n",
    "    elif re.match(r\"^[A-Za-z]\",texts[i]):\n",
    "      ext_dict[\"COMPANY_NAME\"].append(texts[i])\n",
    "\n",
    "    else:\n",
    "      remove_colon = re.sub(r'[,;]','',texts[i])\n",
    "      ext_dict[\"ADDRESS\"].append(remove_colon)\n",
    "\n",
    "  for key,value in ext_dict.items():\n",
    "    if len(value)>0:\n",
    "      concadenate = \" \".join(value)\n",
    "      ext_dict[key] = [concadenate]\n",
    "\n",
    "    else:\n",
    "      value = \"NA\"\n",
    "      ext_dict[key] = [value]\n",
    "\n",
    "  return ext_dict"
   ]
  },
  {
   "cell_type": "code",
   "execution_count": 5,
   "metadata": {
    "id": "2MPGLOVKOuxz"
   },
   "outputs": [],
   "source": [
    "text_ext_data = Extracted_text(text_img)"
   ]
  },
  {
   "cell_type": "code",
   "execution_count": 6,
   "metadata": {
    "colab": {
     "base_uri": "https://localhost:8080/",
     "height": 89
    },
    "id": "nphxDMEgFfU0",
    "outputId": "e05b03c5-1b08-42f9-a47f-5239554359f9"
   },
   "outputs": [
    {
     "data": {
      "text/html": [
       "<div>\n",
       "<style scoped>\n",
       "    .dataframe tbody tr th:only-of-type {\n",
       "        vertical-align: middle;\n",
       "    }\n",
       "\n",
       "    .dataframe tbody tr th {\n",
       "        vertical-align: top;\n",
       "    }\n",
       "\n",
       "    .dataframe thead th {\n",
       "        text-align: right;\n",
       "    }\n",
       "</style>\n",
       "<table border=\"1\" class=\"dataframe\">\n",
       "  <thead>\n",
       "    <tr style=\"text-align: right;\">\n",
       "      <th></th>\n",
       "      <th>NAME</th>\n",
       "      <th>DESIGNATION</th>\n",
       "      <th>COMPANY_NAME</th>\n",
       "      <th>CONTACT</th>\n",
       "      <th>EMAIL</th>\n",
       "      <th>WEBSITE</th>\n",
       "      <th>ADDRESS</th>\n",
       "      <th>PINCODE</th>\n",
       "    </tr>\n",
       "  </thead>\n",
       "  <tbody>\n",
       "    <tr>\n",
       "      <th>0</th>\n",
       "      <td>Selva</td>\n",
       "      <td>DATA MANAGER</td>\n",
       "      <td>selva digitals</td>\n",
       "      <td>+123-456-7890 +123-456-7891</td>\n",
       "      <td>hello@XYZ1.com</td>\n",
       "      <td>www xyzi.com</td>\n",
       "      <td>123 ABC St  Chennai</td>\n",
       "      <td>TamilNadu 600113</td>\n",
       "    </tr>\n",
       "  </tbody>\n",
       "</table>\n",
       "</div>"
      ],
      "text/plain": [
       "    NAME   DESIGNATION    COMPANY_NAME                      CONTACT  \\\n",
       "0  Selva  DATA MANAGER  selva digitals  +123-456-7890 +123-456-7891   \n",
       "\n",
       "            EMAIL       WEBSITE              ADDRESS           PINCODE  \n",
       "0  hello@XYZ1.com  www xyzi.com  123 ABC St  Chennai  TamilNadu 600113  "
      ]
     },
     "execution_count": 6,
     "metadata": {},
     "output_type": "execute_result"
    }
   ],
   "source": [
    "df = pd.DataFrame(text_ext_data)\n",
    "df"
   ]
  },
  {
   "cell_type": "markdown",
   "metadata": {
    "id": "v5G3M0FKB5UG"
   },
   "source": []
  },
  {
   "cell_type": "code",
   "execution_count": 7,
   "metadata": {
    "colab": {
     "base_uri": "https://localhost:8080/",
     "height": 115
    },
    "id": "MQq2wtXyEI7U",
    "outputId": "6e9854f7-8c29-4e55-ec78-f812c40473d6"
   },
   "outputs": [
    {
     "data": {
      "text/html": [
       "<div>\n",
       "<style scoped>\n",
       "    .dataframe tbody tr th:only-of-type {\n",
       "        vertical-align: middle;\n",
       "    }\n",
       "\n",
       "    .dataframe tbody tr th {\n",
       "        vertical-align: top;\n",
       "    }\n",
       "\n",
       "    .dataframe thead th {\n",
       "        text-align: right;\n",
       "    }\n",
       "</style>\n",
       "<table border=\"1\" class=\"dataframe\">\n",
       "  <thead>\n",
       "    <tr style=\"text-align: right;\">\n",
       "      <th></th>\n",
       "      <th>NAME</th>\n",
       "      <th>DESIGNATION</th>\n",
       "      <th>COMPANY_NAME</th>\n",
       "      <th>CONTACT</th>\n",
       "      <th>EMAIL</th>\n",
       "      <th>WEBSITE</th>\n",
       "      <th>ADDRESS</th>\n",
       "      <th>PINCODE</th>\n",
       "      <th>IMAGE</th>\n",
       "    </tr>\n",
       "  </thead>\n",
       "  <tbody>\n",
       "    <tr>\n",
       "      <th>0</th>\n",
       "      <td>Selva</td>\n",
       "      <td>DATA MANAGER</td>\n",
       "      <td>selva digitals</td>\n",
       "      <td>+123-456-7890 +123-456-7891</td>\n",
       "      <td>hello@XYZ1.com</td>\n",
       "      <td>www xyzi.com</td>\n",
       "      <td>123 ABC St  Chennai</td>\n",
       "      <td>TamilNadu 600113</td>\n",
       "      <td>b'\\x89PNG\\r\\n\\x1a\\n\\x00\\x00\\x00\\rIHDR\\x00\\x00\\...</td>\n",
       "    </tr>\n",
       "  </tbody>\n",
       "</table>\n",
       "</div>"
      ],
      "text/plain": [
       "    NAME   DESIGNATION    COMPANY_NAME                      CONTACT  \\\n",
       "0  Selva  DATA MANAGER  selva digitals  +123-456-7890 +123-456-7891   \n",
       "\n",
       "            EMAIL       WEBSITE              ADDRESS           PINCODE  \\\n",
       "0  hello@XYZ1.com  www xyzi.com  123 ABC St  Chennai  TamilNadu 600113   \n",
       "\n",
       "                                               IMAGE  \n",
       "0  b'\\x89PNG\\r\\n\\x1a\\n\\x00\\x00\\x00\\rIHDR\\x00\\x00\\...  "
      ]
     },
     "execution_count": 7,
     "metadata": {},
     "output_type": "execute_result"
    }
   ],
   "source": [
    "#Converting Image to Byte\n",
    "\n",
    "Img_byte = io.BytesIO()\n",
    "input_img.save(Img_byte, format='PNG')\n",
    "Img_data = Img_byte.getvalue()\n",
    "\n",
    "#Creating Dictionary\n",
    "\n",
    "card = {\"IMAGE\":[Img_data]}\n",
    "df_1 = pd.DataFrame(card)\n",
    "Concat_df = pd.concat([df,df_1], axis=1)\n",
    "Concat_df"
   ]
  },
  {
   "cell_type": "code",
   "execution_count": 8,
   "metadata": {
    "id": "AdSr8yIZhK66"
   },
   "outputs": [],
   "source": [
    "mydb = sqlite3.connect(\"Bizcard_data.db\")\n",
    "cur = mydb.cursor()\n",
    "\n",
    "#Table Creation\n",
    "\n",
    "Create_tab_query = \"\"\"CREATE TABLE IF NOT EXISTS bizcard_details(name varchar(250),\n",
    "                                                                 designation varchar(250),\n",
    "                                                                 company_name varchar(250),\n",
    "                                                                 contact varchar(250),\n",
    "                                                                 email varchar(250),\n",
    "                                                                 website text,\n",
    "                                                                 address text,\n",
    "                                                                 pincode varchar(250),\n",
    "                                                                 image text)\"\"\"\n",
    "\n",
    "cur.execute(Create_tab_query)\n",
    "mydb.commit()"
   ]
  },
  {
   "cell_type": "code",
   "execution_count": 9,
   "metadata": {
    "id": "nIA_Mguwiief"
   },
   "outputs": [],
   "source": [
    "# Insert Values\n",
    "\n",
    "Insert_val_query = \"\"\"INSERT INTO bizcard_details(name,\n",
    "                                                  designation,\n",
    "                                                  company_name,\n",
    "                                                  contact,\n",
    "                                                  email,\n",
    "                                                  website,\n",
    "                                                  address,\n",
    "                                                  pincode,\n",
    "                                                  image)\n",
    "                      VALUES(?,?,?,?,?,?,?,?,?)\"\"\"\n",
    "\n",
    "datas = Concat_df.values.tolist()\n",
    "cur.executemany(Insert_val_query, datas)\n",
    "mydb.commit()"
   ]
  },
  {
   "cell_type": "code",
   "execution_count": 10,
   "metadata": {
    "colab": {
     "base_uri": "https://localhost:8080/"
    },
    "id": "Kuejo7xkjdX0",
    "outputId": "181f06ec-6f49-47d6-dfe3-a22c3dc576a4"
   },
   "outputs": [
    {
     "data": {
      "text/plain": [
       "['Selva']"
      ]
     },
     "execution_count": 10,
     "metadata": {},
     "output_type": "execute_result"
    }
   ],
   "source": [
    "#Select Query\n",
    "mydb = sqlite3.connect(\"Bizcard_data.db\")\n",
    "cur = mydb.cursor()\n",
    "\n",
    "Select_query = \"\"\"SELECT NAME FROM bizcard_details\"\"\"\n",
    "cur.execute(Select_query)\n",
    "table1 = cur.fetchall()\n",
    "mydb.commit()\n",
    "\n",
    "names=[]\n",
    "\n",
    "for i in table1:\n",
    "  names.append(i[0])\n",
    "\n",
    "names\n"
   ]
  },
  {
   "cell_type": "code",
   "execution_count": null,
   "metadata": {
    "id": "6wsm4Uyk-KNG"
   },
   "outputs": [],
   "source": [
    "text_img, input_img = image_to_text(\"/content/1.png\")\n"
   ]
  },
  {
   "cell_type": "code",
   "execution_count": null,
   "metadata": {
    "colab": {
     "base_uri": "https://localhost:8080/"
    },
    "id": "ngaHw81bOckM",
    "outputId": "0cd69f96-5529-4c43-9bbe-a20394abbc33"
   },
   "outputs": [
    {
     "name": "stderr",
     "output_type": "stream",
     "text": [
      "WARNING:easyocr.easyocr:Neither CUDA nor MPS are available - defaulting to CPU. Note: This module is much faster with a GPU.\n"
     ]
    }
   ],
   "source": [
    "text_img, input_img = image_to_text(\"/content/2.png\")\n"
   ]
  },
  {
   "cell_type": "code",
   "execution_count": null,
   "metadata": {
    "colab": {
     "base_uri": "https://localhost:8080/"
    },
    "id": "j5PEZsR3OccI",
    "outputId": "55db1212-fb81-4bdd-8cab-7ad1cabbff1c"
   },
   "outputs": [
    {
     "name": "stderr",
     "output_type": "stream",
     "text": [
      "WARNING:easyocr.easyocr:Neither CUDA nor MPS are available - defaulting to CPU. Note: This module is much faster with a GPU.\n"
     ]
    }
   ],
   "source": [
    "text_img, input_img = image_to_text(\"/content/3.png\")\n"
   ]
  },
  {
   "cell_type": "code",
   "execution_count": null,
   "metadata": {
    "colab": {
     "base_uri": "https://localhost:8080/"
    },
    "id": "y31TilnEOcT2",
    "outputId": "edacb641-6544-4d89-b5f6-6216edbca72e"
   },
   "outputs": [
    {
     "name": "stderr",
     "output_type": "stream",
     "text": [
      "WARNING:easyocr.easyocr:Neither CUDA nor MPS are available - defaulting to CPU. Note: This module is much faster with a GPU.\n"
     ]
    }
   ],
   "source": [
    "text_img, input_img = image_to_text(\"/content/4.png\")\n"
   ]
  },
  {
   "cell_type": "code",
   "execution_count": null,
   "metadata": {
    "id": "OD7gaCiye6EH"
   },
   "outputs": [],
   "source": []
  }
 ],
 "metadata": {
  "colab": {
   "provenance": []
  },
  "kernelspec": {
   "display_name": ".venv",
   "language": "python",
   "name": "python3"
  },
  "language_info": {
   "codemirror_mode": {
    "name": "ipython",
    "version": 3
   },
   "file_extension": ".py",
   "mimetype": "text/x-python",
   "name": "python",
   "nbconvert_exporter": "python",
   "pygments_lexer": "ipython3",
   "version": "3.12.4"
  }
 },
 "nbformat": 4,
 "nbformat_minor": 0
}
